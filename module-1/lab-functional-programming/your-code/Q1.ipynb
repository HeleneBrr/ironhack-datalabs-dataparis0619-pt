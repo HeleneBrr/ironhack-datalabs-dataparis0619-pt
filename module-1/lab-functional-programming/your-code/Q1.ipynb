{
 "cells": [
  {
   "cell_type": "markdown",
   "metadata": {},
   "source": [
    "In the cell below, create a Python function that wraps your previous solution for the Bag of Words lab.\n",
    "\n",
    "Requirements:\n",
    "\n",
    "1. Your function should accept the following parameters:\n",
    "    * `docs` [REQUIRED] - array of document paths.\n",
    "    * `stop_words` [OPTIONAL] - array of stop words. The default value is an empty array.\n",
    "\n",
    "1. Your function should return a Python object that contains the following:\n",
    "    * `bag_of_words` - array of strings of normalized unique words in the corpus.\n",
    "    * `term_freq` - array of the term-frequency vectors."
   ]
  },
  {
   "cell_type": "code",
   "execution_count": 32,
   "metadata": {},
   "outputs": [
    {
     "name": "stdout",
     "output_type": "stream",
     "text": [
      "['ironhack is cool', 'i love ironhack', 'i am a student at ironhack']\n"
     ]
    },
    {
     "data": {
      "text/plain": [
       "{'bag_of_words': ['a',\n",
       "  'am',\n",
       "  'at',\n",
       "  'cool',\n",
       "  'i',\n",
       "  'ironhack',\n",
       "  'is',\n",
       "  'love',\n",
       "  'student'],\n",
       " 'term_freq': [[0, 0, 0, 1, 0, 1, 1, 0, 0],\n",
       "  [0, 0, 0, 0, 1, 1, 0, 1, 0],\n",
       "  [1, 1, 1, 0, 1, 1, 0, 0, 1]]}"
      ]
     },
     "execution_count": 32,
     "metadata": {},
     "output_type": "execute_result"
    }
   ],
   "source": [
    "# Import required libraries\n",
    "\n",
    "# Define function\n",
    "def get_bow_from_docs(docs, stop_words=[]):\n",
    "    \n",
    "    # In the function, first define the variables you will use such as `corpus`, `bag_of_words`, and `term_freq`.\n",
    "\n",
    "    corpus = []\n",
    "    \n",
    "    for doc in docs:\n",
    "        with open(doc,\"r\") as f:\n",
    "            lines=f.read()\n",
    "            corpus.append(lines.lower().strip('.'))\n",
    "    type(corpus)\n",
    "    print(corpus)\n",
    "        \n",
    "    bag_of_words = ['a', 'am', 'at', 'cool', 'i', 'ironhack', 'is', 'love', 'student']\n",
    "\n",
    "    term_freq = [\n",
    "    [0, 0, 0, 1, 0, 1, 1, 0, 0],\n",
    "    [0, 0, 0, 0, 1, 1, 0, 1, 0],\n",
    "    [1, 1, 1, 0, 1, 1, 0, 0, 1],\n",
    "]\n",
    "    \n",
    "    \"\"\"\n",
    "    Loop `docs` and read the content of each doc into a string in `corpus`.\n",
    "    Remember to convert the doc content to lowercases and remove punctuation.\n",
    "    \"\"\"\n",
    "\n",
    "    \n",
    "    \n",
    "    \"\"\"\n",
    "    Loop `corpus`. Append the terms in each doc into the `bag_of_words` array. The terms in `bag_of_words` \n",
    "    should be unique which means before adding each term you need to check if it's already added to the array.\n",
    "    In addition, check if each term is in the `stop_words` array. Only append the term to `bag_of_words`\n",
    "    if it is not a stop word.\n",
    "    \"\"\"\n",
    "\n",
    "    \n",
    "    \n",
    "    \n",
    "    \"\"\"\n",
    "    Loop `corpus` again. For each doc string, count the number of occurrences of each term in `bag_of_words`. \n",
    "    Create an array for each doc's term frequency and append it to `term_freq`.\n",
    "    \"\"\"\n",
    "\n",
    "    \n",
    "    \n",
    "    # Now return your output as an object\n",
    "    return {\n",
    "        \"bag_of_words\": bag_of_words,\n",
    "        \"term_freq\": term_freq\n",
    "    }\n",
    "\n",
    "get_bow_from_docs(['../../lab-string-operations/your-code/doc1.txt',\n",
    "       '../../lab-string-operations/your-code/doc2.txt',\n",
    "       '../../lab-string-operations/your-code/doc3.txt'],stop_words=[])"
   ]
  },
  {
   "cell_type": "code",
   "execution_count": 33,
   "metadata": {},
   "outputs": [
    {
     "name": "stdout",
     "output_type": "stream",
     "text": [
      "../../lab-string-operations/your-code/doc1.txt\r\n"
     ]
    }
   ],
   "source": [
    "!ls ../../lab-string-operations/your-code/doc1.txt # \"!ls\" pour avoir un terminal dans jupyter\n",
    "# ../../ dossier parent du dossier parent\n",
    "# ./ #dossier courant"
   ]
  },
  {
   "cell_type": "markdown",
   "metadata": {},
   "source": [
    "Test your function without stop words. You should see the output like below:\n",
    "\n",
    "```{'bag_of_words': ['ironhack', 'is', 'cool', 'i', 'love', 'am', 'a', 'student', 'at'], 'term_freq': [[1, 1, 1, 0, 0, 0, 0, 0, 0], [1, 0, 0, 1, 1, 0, 0, 0, 0], [1, 0, 0, 1, 0, 1, 1, 1, 1]]}```"
   ]
  },
  {
   "cell_type": "code",
   "execution_count": 37,
   "metadata": {},
   "outputs": [
    {
     "name": "stdout",
     "output_type": "stream",
     "text": [
      "['ironhack is cool', 'i love ironhack', 'i am a student at ironhack']\n",
      "{'bag_of_words': ['a', 'am', 'at', 'cool', 'i', 'ironhack', 'is', 'love', 'student'], 'term_freq': [[0, 0, 0, 1, 0, 1, 1, 0, 0], [0, 0, 0, 0, 1, 1, 0, 1, 0], [1, 1, 1, 0, 1, 1, 0, 0, 1]]}\n"
     ]
    }
   ],
   "source": [
    "# Define doc paths array\n",
    "docs = ['../../lab-string-operations/your-code/doc1.txt',\n",
    "       '../../lab-string-operations/your-code/doc2.txt',\n",
    "       '../../lab-string-operations/your-code/doc3.txt']\n",
    "\n",
    "# Obtain BoW from your function\n",
    "bow = get_bow_from_docs(docs)\n",
    "\n",
    "# Print BoW\n",
    "print(bow)"
   ]
  },
  {
   "cell_type": "markdown",
   "metadata": {},
   "source": [
    "If your attempt above is successful, nice work done!\n",
    "\n",
    "Now test your function again with the stop words. In the previous lab we defined the stop words in a large array. In this lab, we'll import the stop words from Scikit-Learn."
   ]
  },
  {
   "cell_type": "code",
   "execution_count": 38,
   "metadata": {},
   "outputs": [
    {
     "name": "stdout",
     "output_type": "stream",
     "text": [
      "frozenset({'i', 'sometime', 'down', 'because', 'through', 'seeming', 'after', 'meanwhile', 'found', 'those', 'anyway', 'amount', 'moreover', 'keep', 'only', 'herself', 'former', 'done', 'otherwise', 'rather', 'other', 'thus', 'seems', 'all', 'thru', 'became', 'within', 'nobody', 'get', 'everyone', 'neither', 'never', 'twenty', 'afterwards', 'wherein', 'it', 'upon', 'from', 'how', 'again', 'whence', 'too', 'on', 'whenever', 'beforehand', 'fire', 'for', 'go', 'often', 'indeed', 'eleven', 'move', 'but', 'thin', 'such', 'you', 'onto', 'therefore', 'some', 'whither', 'hereafter', 'four', 'among', 'perhaps', 'elsewhere', 'will', 'where', 'con', 'beside', 'top', 'or', 'third', 'describe', 'cannot', 'front', 'noone', 'therein', 'ten', 'should', 'back', 'find', 'herein', 'anyone', 'thereby', 'during', 'formerly', 'someone', 'put', 'more', 'had', 'own', 'nevertheless', 'system', 'she', 'several', 'becoming', 'well', 'last', 'bill', 'must', 'sixty', 'nowhere', 'any', 'as', 'latterly', 'made', 'first', 'themselves', 'sincere', 'further', 'un', 'himself', 'however', 'by', 'amongst', 'fifty', 'thereupon', 'anyhow', 'they', 'throughout', 'an', 'very', 'above', 'eg', 'together', 'please', 'interest', 'bottom', 'ours', 'alone', 'yours', 'am', 'he', 'many', 'full', 'empty', 'and', 'three', 'its', 'etc', 'whose', 'against', 'below', 're', 'off', 'everything', 'yet', 'ie', 'none', 'their', 'eight', 'same', 'two', 'my', 'hereby', 'your', 'would', 'somewhere', 'anywhere', 'why', 'the', 'who', 'out', 'already', 'whom', 'becomes', 'without', 'seem', 'might', 'hers', 'couldnt', 'one', 'whereby', 'much', 'six', 'may', 'cry', 'also', 'when', 'every', 'inc', 'fifteen', 'nine', 'beyond', 'were', 'forty', 'besides', 'whereupon', 'cant', 'see', 'twelve', 'across', 'whereas', 'itself', 'be', 'so', 'fill', 'less', 'name', 'to', 'ever', 'along', 'not', 'us', 'enough', 'there', 'ltd', 'another', 'once', 'behind', 'them', 'everywhere', 'here', 'her', 'detail', 'whether', 'mill', 'then', 'hundred', 'always', 'call', 'yourself', 'five', 'nothing', 'mostly', 'being', 'part', 'are', 'at', 'his', 'hereupon', 'me', 'next', 'since', 'side', 'with', 'even', 'about', 'myself', 'de', 'that', 'thereafter', 'until', 'whereafter', 'give', 'up', 'what', 'namely', 'towards', 'ourselves', 'either', 'take', 'although', 'in', 'whatever', 'can', 'been', 'thence', 'except', 'mine', 'him', 'do', 'most', 'between', 'show', 'latter', 'this', 'somehow', 'co', 'least', 'our', 'serious', 'we', 'sometimes', 'still', 'few', 'has', 'have', 'via', 'of', 'into', 'whoever', 'else', 'no', 'which', 'over', 'per', 'hence', 'these', 'thick', 'is', 'while', 'wherever', 'both', 'become', 'each', 'hasnt', 'though', 'before', 'now', 'than', 'whole', 'anything', 'seemed', 'toward', 'amoungst', 'nor', 'around', 'could', 'something', 'if', 'yourselves', 'due', 'others', 'under', 'was', 'a', 'almost'})\n"
     ]
    }
   ],
   "source": [
    "from sklearn.feature_extraction import stop_words\n",
    "print(stop_words.ENGLISH_STOP_WORDS)"
   ]
  },
  {
   "cell_type": "markdown",
   "metadata": {},
   "source": [
    "You should have seen a large list of words that looks like:\n",
    "\n",
    "```frozenset({'across', 'mine', 'cannot', ...})```\n",
    "\n",
    "`frozenset` is a type of Python object that is immutable. In this lab you can use it just like an array without conversion."
   ]
  },
  {
   "cell_type": "markdown",
   "metadata": {},
   "source": [
    "Next, test your function with supplying `stop_words.ENGLISH_STOP_WORDS` as the second parameter."
   ]
  },
  {
   "cell_type": "code",
   "execution_count": 40,
   "metadata": {},
   "outputs": [
    {
     "name": "stdout",
     "output_type": "stream",
     "text": [
      "['ironhack is cool', 'i love ironhack', 'i am a student at ironhack']\n",
      "{'bag_of_words': ['a', 'am', 'at', 'cool', 'i', 'ironhack', 'is', 'love', 'student'], 'term_freq': [[0, 0, 0, 1, 0, 1, 1, 0, 0], [0, 0, 0, 0, 1, 1, 0, 1, 0], [1, 1, 1, 0, 1, 1, 0, 0, 1]]}\n"
     ]
    }
   ],
   "source": [
    "bow = get_bow_from_docs(docs, stop_words.ENGLISH_STOP_WORDS)\n",
    "\n",
    "print(bow)"
   ]
  },
  {
   "cell_type": "markdown",
   "metadata": {},
   "source": [
    "You should have seen:\n",
    "\n",
    "```{'bag_of_words': ['ironhack', 'cool', 'love', 'student'], 'term_freq': [[1, 1, 0, 0], [1, 0, 1, 0], [1, 0, 0, 1]]}```"
   ]
  },
  {
   "cell_type": "code",
   "execution_count": null,
   "metadata": {},
   "outputs": [],
   "source": []
  }
 ],
 "metadata": {
  "kernelspec": {
   "display_name": "Python 3",
   "language": "python",
   "name": "python3"
  },
  "language_info": {
   "codemirror_mode": {
    "name": "ipython",
    "version": 3
   },
   "file_extension": ".py",
   "mimetype": "text/x-python",
   "name": "python",
   "nbconvert_exporter": "python",
   "pygments_lexer": "ipython3",
   "version": "3.7.3"
  }
 },
 "nbformat": 4,
 "nbformat_minor": 2
}
